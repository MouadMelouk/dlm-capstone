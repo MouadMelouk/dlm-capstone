{
 "cells": [
  {
   "cell_type": "code",
   "execution_count": 17,
   "id": "d5685262-6d72-4b3a-ac08-d302c70db75b",
   "metadata": {},
   "outputs": [
    {
     "name": "stdout",
     "output_type": "stream",
     "text": [
      "FF-NT: Conditional Accuracy of Flows given Frames Misclassified (on Common Data Points): 0.2353\n"
     ]
    }
   ],
   "source": [
    "import pandas as pd\n",
    "\n",
    "# Load the CSV files\n",
    "frames_df = pd.read_csv('labels_and_predictions_of_frames_NT.csv')\n",
    "flows_df = pd.read_csv('labels_and_predictions_of_flows_3_NT.csv')\n",
    "\n",
    "# Extract unique video identifier and frame name from frames_df paths\n",
    "frames_df['video_id'] = frames_df['frame_path'].apply(lambda x: x.split('/')[-2])  # Video identifier\n",
    "frames_df['frame_name'] = frames_df['frame_path'].apply(lambda x: x.split('/')[-1])  # Frame name\n",
    "\n",
    "# Extract unique video identifier and frame name from flows_df paths\n",
    "flows_df['video_id'] = flows_df['frame_path'].apply(lambda x: x.split('/')[-2])  # Video identifier\n",
    "flows_df['frame_name'] = flows_df['frame_path'].apply(lambda x: x.split('/')[-1])  # Frame name\n",
    "\n",
    "# Merge on video_id and frame_name to find common rows\n",
    "common_df = frames_df.merge(flows_df, on=['video_id', 'frame_name'], suffixes=('_frames', '_flows'), how='inner')\n",
    "\n",
    "# Apply a threshold of 0.5 to classify predictions as 0 or 1\n",
    "common_df['prediction_class_frames'] = (common_df['prediction_frames'] >= 0.5).astype(int)\n",
    "common_df['prediction_class_flows'] = (common_df['prediction_flows'] >= 0.5).astype(int)\n",
    "\n",
    "# Filter the common data points where frames misclassified (i.e., frames' prediction != real label)\n",
    "frames_misclassified_df = common_df[common_df['prediction_class_frames'] != common_df['real_label_frames']]\n",
    "\n",
    "# Calculate the accuracy of flows on this filtered dataset\n",
    "flows_correct = (frames_misclassified_df['prediction_class_flows'] == frames_misclassified_df['real_label_frames']).sum()\n",
    "conditional_accuracy_flows = flows_correct / len(frames_misclassified_df) if len(frames_misclassified_df) > 0 else None\n",
    "\n",
    "# Print the result\n",
    "print(f\"FF-NT: Conditional Accuracy of Flows given Frames Misclassified (on Common Data Points): {conditional_accuracy_flows:.4f}\" if conditional_accuracy_flows is not None else \"No misclassified frames found.\")\n"
   ]
  },
  {
   "cell_type": "code",
   "execution_count": 18,
   "id": "dafbe488-b33f-4549-b7fd-c1ef26e1017f",
   "metadata": {},
   "outputs": [
    {
     "name": "stdout",
     "output_type": "stream",
     "text": [
      "FF-NT: Conditional Accuracy of Frames given Flows Misclassified (on Common Data Points): 0.7797\n"
     ]
    }
   ],
   "source": [
    "# Extract unique video identifier and frame name from frames_df paths\n",
    "frames_df['video_id'] = frames_df['frame_path'].apply(lambda x: x.split('/')[-2])  # Video identifier\n",
    "frames_df['frame_name'] = frames_df['frame_path'].apply(lambda x: x.split('/')[-1])  # Frame name\n",
    "\n",
    "# Extract unique video identifier and frame name from flows_df paths\n",
    "flows_df['video_id'] = flows_df['frame_path'].apply(lambda x: x.split('/')[-2])  # Video identifier\n",
    "flows_df['frame_name'] = flows_df['frame_path'].apply(lambda x: x.split('/')[-1])  # Frame name\n",
    "\n",
    "# Merge on video_id and frame_name to find common rows\n",
    "common_df = frames_df.merge(flows_df, on=['video_id', 'frame_name'], suffixes=('_frames', '_flows'), how='inner')\n",
    "\n",
    "# Apply a threshold of 0.5 to classify predictions as 0 or 1\n",
    "common_df['prediction_class_frames'] = (common_df['prediction_frames'] >= 0.5).astype(int)\n",
    "common_df['prediction_class_flows'] = (common_df['prediction_flows'] >= 0.5).astype(int)\n",
    "\n",
    "# Filter the common data points where flows misclassified (i.e., flows' prediction != real label)\n",
    "flows_misclassified_df = common_df[common_df['prediction_class_flows'] != common_df['real_label_frames']]\n",
    "\n",
    "# Calculate the accuracy of frames on this filtered dataset\n",
    "frames_correct = (flows_misclassified_df['prediction_class_frames'] == flows_misclassified_df['real_label_frames']).sum()\n",
    "conditional_accuracy_frames = frames_correct / len(flows_misclassified_df) if len(flows_misclassified_df) > 0 else None\n",
    "\n",
    "# Print the result\n",
    "print(f\"FF-NT: Conditional Accuracy of Frames given Flows Misclassified (on Common Data Points): {conditional_accuracy_frames:.4f}\" if conditional_accuracy_frames is not None else \"No misclassified flows found.\")\n"
   ]
  },
  {
   "cell_type": "code",
   "execution_count": 19,
   "id": "88ff9a6c-4d84-4e45-9815-429a783fb64c",
   "metadata": {},
   "outputs": [
    {
     "name": "stdout",
     "output_type": "stream",
     "text": [
      "FF-DF: Conditional Accuracy of Flows given Frames Misclassified (on Common Data Points): 0.0588\n"
     ]
    }
   ],
   "source": [
    "import pandas as pd\n",
    "\n",
    "# Load the CSV files\n",
    "frames_df = pd.read_csv('labels_and_predictions_of_frames_DF.csv')\n",
    "flows_df = pd.read_csv('labels_and_predictions_of_flows_3_DF.csv')\n",
    "\n",
    "# Extract unique video identifier and frame name from frames_df paths\n",
    "frames_df['video_id'] = frames_df['frame_path'].apply(lambda x: x.split('/')[-2])  # Video identifier\n",
    "frames_df['frame_name'] = frames_df['frame_path'].apply(lambda x: x.split('/')[-1])  # Frame name\n",
    "\n",
    "# Extract unique video identifier and frame name from flows_df paths\n",
    "flows_df['video_id'] = flows_df['frame_path'].apply(lambda x: x.split('/')[-2])  # Video identifier\n",
    "flows_df['frame_name'] = flows_df['frame_path'].apply(lambda x: x.split('/')[-1])  # Frame name\n",
    "\n",
    "# Merge on video_id and frame_name to find common rows\n",
    "common_df = frames_df.merge(flows_df, on=['video_id', 'frame_name'], suffixes=('_frames', '_flows'), how='inner')\n",
    "\n",
    "# Apply a threshold of 0.5 to classify predictions as 0 or 1\n",
    "common_df['prediction_class_frames'] = (common_df['prediction_frames'] >= 0.5).astype(int)\n",
    "common_df['prediction_class_flows'] = (common_df['prediction_flows'] >= 0.5).astype(int)\n",
    "\n",
    "# Filter the common data points where frames misclassified (i.e., frames' prediction != real label)\n",
    "frames_misclassified_df = common_df[common_df['prediction_class_frames'] != common_df['real_label_frames']]\n",
    "\n",
    "# Calculate the accuracy of flows on this filtered dataset\n",
    "flows_correct = (frames_misclassified_df['prediction_class_flows'] == frames_misclassified_df['real_label_frames']).sum()\n",
    "conditional_accuracy_flows = flows_correct / len(frames_misclassified_df) if len(frames_misclassified_df) > 0 else None\n",
    "\n",
    "# Print the result\n",
    "print(f\"FF-DF: Conditional Accuracy of Flows given Frames Misclassified (on Common Data Points): {conditional_accuracy_flows:.4f}\" if conditional_accuracy_flows is not None else \"No misclassified frames found.\")\n"
   ]
  },
  {
   "cell_type": "code",
   "execution_count": 21,
   "id": "0b4e8c3e-b6f6-4325-9bb5-dd5a3fba6040",
   "metadata": {},
   "outputs": [
    {
     "name": "stdout",
     "output_type": "stream",
     "text": [
      "FF-DF: Conditional Accuracy of Frames given Flows Misclassified (on Common Data Points): 0.7722\n"
     ]
    }
   ],
   "source": [
    "# Extract unique video identifier and frame name from frames_df paths\n",
    "frames_df['video_id'] = frames_df['frame_path'].apply(lambda x: x.split('/')[-2])  # Video identifier\n",
    "frames_df['frame_name'] = frames_df['frame_path'].apply(lambda x: x.split('/')[-1])  # Frame name\n",
    "\n",
    "# Extract unique video identifier and frame name from flows_df paths\n",
    "flows_df['video_id'] = flows_df['frame_path'].apply(lambda x: x.split('/')[-2])  # Video identifier\n",
    "flows_df['frame_name'] = flows_df['frame_path'].apply(lambda x: x.split('/')[-1])  # Frame name\n",
    "\n",
    "# Merge on video_id and frame_name to find common rows\n",
    "common_df = frames_df.merge(flows_df, on=['video_id', 'frame_name'], suffixes=('_frames', '_flows'), how='inner')\n",
    "\n",
    "# Apply a threshold of 0.5 to classify predictions as 0 or 1\n",
    "common_df['prediction_class_frames'] = (common_df['prediction_frames'] >= 0.5).astype(int)\n",
    "common_df['prediction_class_flows'] = (common_df['prediction_flows'] >= 0.5).astype(int)\n",
    "\n",
    "# Filter the common data points where flows misclassified (i.e., flows' prediction != real label)\n",
    "flows_misclassified_df = common_df[common_df['prediction_class_flows'] != common_df['real_label_frames']]\n",
    "\n",
    "# Calculate the accuracy of frames on this filtered dataset\n",
    "frames_correct = (flows_misclassified_df['prediction_class_frames'] == flows_misclassified_df['real_label_frames']).sum()\n",
    "conditional_accuracy_frames = frames_correct / len(flows_misclassified_df) if len(flows_misclassified_df) > 0 else None\n",
    "\n",
    "# Print the result\n",
    "print(f\"FF-DF: Conditional Accuracy of Frames given Flows Misclassified (on Common Data Points): {conditional_accuracy_frames:.4f}\" if conditional_accuracy_frames is not None else \"No misclassified flows found.\")\n"
   ]
  },
  {
   "cell_type": "code",
   "execution_count": 22,
   "id": "47b4b542-b243-4599-8194-bf9a3c641a82",
   "metadata": {},
   "outputs": [
    {
     "name": "stdout",
     "output_type": "stream",
     "text": [
      "FF-F2F: Conditional Accuracy of Flows given Frames Misclassified (on Common Data Points): 0.0857\n"
     ]
    }
   ],
   "source": [
    "import pandas as pd\n",
    "\n",
    "# Load the CSV files\n",
    "frames_df = pd.read_csv('labels_and_predictions_of_frames_F2F.csv')\n",
    "flows_df = pd.read_csv('labels_and_predictions_of_flows_3_F2F.csv')\n",
    "\n",
    "# Extract unique video identifier and frame name from frames_df paths\n",
    "frames_df['video_id'] = frames_df['frame_path'].apply(lambda x: x.split('/')[-2])  # Video identifier\n",
    "frames_df['frame_name'] = frames_df['frame_path'].apply(lambda x: x.split('/')[-1])  # Frame name\n",
    "\n",
    "# Extract unique video identifier and frame name from flows_df paths\n",
    "flows_df['video_id'] = flows_df['frame_path'].apply(lambda x: x.split('/')[-2])  # Video identifier\n",
    "flows_df['frame_name'] = flows_df['frame_path'].apply(lambda x: x.split('/')[-1])  # Frame name\n",
    "\n",
    "# Merge on video_id and frame_name to find common rows\n",
    "common_df = frames_df.merge(flows_df, on=['video_id', 'frame_name'], suffixes=('_frames', '_flows'), how='inner')\n",
    "\n",
    "# Apply a threshold of 0.5 to classify predictions as 0 or 1\n",
    "common_df['prediction_class_frames'] = (common_df['prediction_frames'] >= 0.5).astype(int)\n",
    "common_df['prediction_class_flows'] = (common_df['prediction_flows'] >= 0.5).astype(int)\n",
    "\n",
    "# Filter the common data points where frames misclassified (i.e., frames' prediction != real label)\n",
    "frames_misclassified_df = common_df[common_df['prediction_class_frames'] != common_df['real_label_frames']]\n",
    "\n",
    "# Calculate the accuracy of flows on this filtered dataset\n",
    "flows_correct = (frames_misclassified_df['prediction_class_flows'] == frames_misclassified_df['real_label_frames']).sum()\n",
    "conditional_accuracy_flows = flows_correct / len(frames_misclassified_df) if len(frames_misclassified_df) > 0 else None\n",
    "\n",
    "# Print the result\n",
    "print(f\"FF-F2F: Conditional Accuracy of Flows given Frames Misclassified (on Common Data Points): {conditional_accuracy_flows:.4f}\" if conditional_accuracy_flows is not None else \"No misclassified frames found.\")\n"
   ]
  },
  {
   "cell_type": "code",
   "execution_count": 23,
   "id": "9b474109-9e39-4f95-9cde-70c304e68f01",
   "metadata": {},
   "outputs": [
    {
     "name": "stdout",
     "output_type": "stream",
     "text": [
      "FF-F2F: Conditional Accuracy of Frames given Flows Misclassified (on Common Data Points): 0.7730\n"
     ]
    }
   ],
   "source": [
    "# Extract unique video identifier and frame name from frames_df paths\n",
    "frames_df['video_id'] = frames_df['frame_path'].apply(lambda x: x.split('/')[-2])  # Video identifier\n",
    "frames_df['frame_name'] = frames_df['frame_path'].apply(lambda x: x.split('/')[-1])  # Frame name\n",
    "\n",
    "# Extract unique video identifier and frame name from flows_df paths\n",
    "flows_df['video_id'] = flows_df['frame_path'].apply(lambda x: x.split('/')[-2])  # Video identifier\n",
    "flows_df['frame_name'] = flows_df['frame_path'].apply(lambda x: x.split('/')[-1])  # Frame name\n",
    "\n",
    "# Merge on video_id and frame_name to find common rows\n",
    "common_df = frames_df.merge(flows_df, on=['video_id', 'frame_name'], suffixes=('_frames', '_flows'), how='inner')\n",
    "\n",
    "# Apply a threshold of 0.5 to classify predictions as 0 or 1\n",
    "common_df['prediction_class_frames'] = (common_df['prediction_frames'] >= 0.5).astype(int)\n",
    "common_df['prediction_class_flows'] = (common_df['prediction_flows'] >= 0.5).astype(int)\n",
    "\n",
    "# Filter the common data points where flows misclassified (i.e., flows' prediction != real label)\n",
    "flows_misclassified_df = common_df[common_df['prediction_class_flows'] != common_df['real_label_frames']]\n",
    "\n",
    "# Calculate the accuracy of frames on this filtered dataset\n",
    "frames_correct = (flows_misclassified_df['prediction_class_frames'] == flows_misclassified_df['real_label_frames']).sum()\n",
    "conditional_accuracy_frames = frames_correct / len(flows_misclassified_df) if len(flows_misclassified_df) > 0 else None\n",
    "\n",
    "# Print the result\n",
    "print(f\"FF-F2F: Conditional Accuracy of Frames given Flows Misclassified (on Common Data Points): {conditional_accuracy_frames:.4f}\" if conditional_accuracy_frames is not None else \"No misclassified flows found.\")\n"
   ]
  },
  {
   "cell_type": "code",
   "execution_count": 25,
   "id": "2b795f0f-7db4-4c7c-a7f8-f7493e1ece51",
   "metadata": {},
   "outputs": [
    {
     "name": "stdout",
     "output_type": "stream",
     "text": [
      "FF-FS: Conditional Accuracy of Flows given Frames Misclassified (on Common Data Points): 0.1111\n"
     ]
    }
   ],
   "source": [
    "import pandas as pd\n",
    "\n",
    "# Load the CSV files\n",
    "frames_df = pd.read_csv('labels_and_predictions_of_frames_FS.csv')\n",
    "flows_df = pd.read_csv('labels_and_predictions_of_flows_3_FS.csv')\n",
    "\n",
    "# Extract unique video identifier and frame name from frames_df paths\n",
    "frames_df['video_id'] = frames_df['frame_path'].apply(lambda x: x.split('/')[-2])  # Video identifier\n",
    "frames_df['frame_name'] = frames_df['frame_path'].apply(lambda x: x.split('/')[-1])  # Frame name\n",
    "\n",
    "# Extract unique video identifier and frame name from flows_df paths\n",
    "flows_df['video_id'] = flows_df['frame_path'].apply(lambda x: x.split('/')[-2])  # Video identifier\n",
    "flows_df['frame_name'] = flows_df['frame_path'].apply(lambda x: x.split('/')[-1])  # Frame name\n",
    "\n",
    "# Merge on video_id and frame_name to find common rows\n",
    "common_df = frames_df.merge(flows_df, on=['video_id', 'frame_name'], suffixes=('_frames', '_flows'), how='inner')\n",
    "\n",
    "# Apply a threshold of 0.5 to classify predictions as 0 or 1\n",
    "common_df['prediction_class_frames'] = (common_df['prediction_frames'] >= 0.5).astype(int)\n",
    "common_df['prediction_class_flows'] = (common_df['prediction_flows'] >= 0.5).astype(int)\n",
    "\n",
    "# Filter the common data points where frames misclassified (i.e., frames' prediction != real label)\n",
    "frames_misclassified_df = common_df[common_df['prediction_class_frames'] != common_df['real_label_frames']]\n",
    "\n",
    "# Calculate the accuracy of flows on this filtered dataset\n",
    "flows_correct = (frames_misclassified_df['prediction_class_flows'] == frames_misclassified_df['real_label_frames']).sum()\n",
    "conditional_accuracy_flows = flows_correct / len(frames_misclassified_df) if len(frames_misclassified_df) > 0 else None\n",
    "\n",
    "# Print the result\n",
    "print(f\"FF-FS: Conditional Accuracy of Flows given Frames Misclassified (on Common Data Points): {conditional_accuracy_flows:.4f}\" if conditional_accuracy_flows is not None else \"No misclassified frames found.\")\n"
   ]
  },
  {
   "cell_type": "code",
   "execution_count": 26,
   "id": "2d880f2f-2bf9-4c4b-8480-748f24bd72d5",
   "metadata": {},
   "outputs": [
    {
     "name": "stdout",
     "output_type": "stream",
     "text": [
      "FF-FS: Conditional Accuracy of Frames given Flows Misclassified (on Common Data Points): 0.7801\n"
     ]
    }
   ],
   "source": [
    "# Extract unique video identifier and frame name from frames_df paths\n",
    "frames_df['video_id'] = frames_df['frame_path'].apply(lambda x: x.split('/')[-2])  # Video identifier\n",
    "frames_df['frame_name'] = frames_df['frame_path'].apply(lambda x: x.split('/')[-1])  # Frame name\n",
    "\n",
    "# Extract unique video identifier and frame name from flows_df paths\n",
    "flows_df['video_id'] = flows_df['frame_path'].apply(lambda x: x.split('/')[-2])  # Video identifier\n",
    "flows_df['frame_name'] = flows_df['frame_path'].apply(lambda x: x.split('/')[-1])  # Frame name\n",
    "\n",
    "# Merge on video_id and frame_name to find common rows\n",
    "common_df = frames_df.merge(flows_df, on=['video_id', 'frame_name'], suffixes=('_frames', '_flows'), how='inner')\n",
    "\n",
    "# Apply a threshold of 0.5 to classify predictions as 0 or 1\n",
    "common_df['prediction_class_frames'] = (common_df['prediction_frames'] >= 0.5).astype(int)\n",
    "common_df['prediction_class_flows'] = (common_df['prediction_flows'] >= 0.5).astype(int)\n",
    "\n",
    "# Filter the common data points where flows misclassified (i.e., flows' prediction != real label)\n",
    "flows_misclassified_df = common_df[common_df['prediction_class_flows'] != common_df['real_label_frames']]\n",
    "\n",
    "# Calculate the accuracy of frames on this filtered dataset\n",
    "frames_correct = (flows_misclassified_df['prediction_class_frames'] == flows_misclassified_df['real_label_frames']).sum()\n",
    "conditional_accuracy_frames = frames_correct / len(flows_misclassified_df) if len(flows_misclassified_df) > 0 else None\n",
    "\n",
    "# Print the result\n",
    "print(f\"FF-FS: Conditional Accuracy of Frames given Flows Misclassified (on Common Data Points): {conditional_accuracy_frames:.4f}\" if conditional_accuracy_frames is not None else \"No misclassified flows found.\")\n"
   ]
  },
  {
   "cell_type": "code",
   "execution_count": null,
   "id": "2230b54f-ba7c-4751-8507-b2646219535c",
   "metadata": {},
   "outputs": [],
   "source": []
  }
 ],
 "metadata": {
  "kernelspec": {
   "display_name": "DeepfakeBench",
   "language": "python",
   "name": "deepfakebench"
  },
  "language_info": {
   "codemirror_mode": {
    "name": "ipython",
    "version": 3
   },
   "file_extension": ".py",
   "mimetype": "text/x-python",
   "name": "python",
   "nbconvert_exporter": "python",
   "pygments_lexer": "ipython3",
   "version": "3.7.12"
  }
 },
 "nbformat": 4,
 "nbformat_minor": 5
}
