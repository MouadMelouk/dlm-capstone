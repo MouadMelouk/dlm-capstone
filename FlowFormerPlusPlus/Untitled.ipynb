{
 "cells": [
  {
   "cell_type": "code",
   "execution_count": 1,
   "id": "5780dc82-7484-47e3-bea0-2ec5ff995642",
   "metadata": {},
   "outputs": [],
   "source": [
    "import os\n",
    "\n",
    "def get_frame_subfolders(folder_path):\n",
    "    frames_path = os.path.join(folder_path, \"frames\")\n",
    "    if not os.path.exists(frames_path):\n",
    "        raise FileNotFoundError(f\"No 'frames' directory found at {frames_path}\")\n",
    "    \n",
    "    # List all subdirectories in {folder_path}/frames/\n",
    "    subfolders = [\n",
    "        os.path.join(frames_path, subfolder)\n",
    "        for subfolder in os.listdir(frames_path)\n",
    "        if os.path.isdir(os.path.join(frames_path, subfolder))\n",
    "    ]\n",
    "    return sorted(subfolders)\n"
   ]
  },
  {
   "cell_type": "code",
   "execution_count": 3,
   "id": "c20bf03a-c1b9-4a0a-8618-26491dbaa203",
   "metadata": {},
   "outputs": [
    {
     "ename": "FileNotFoundError",
     "evalue": "No 'frames' directory found at ./frames",
     "output_type": "error",
     "traceback": [
      "\u001b[0;31m---------------------------------------------------------------------------\u001b[0m",
      "\u001b[0;31mFileNotFoundError\u001b[0m                         Traceback (most recent call last)",
      "Cell \u001b[0;32mIn[3], line 2\u001b[0m\n\u001b[1;32m      1\u001b[0m folder_path \u001b[38;5;241m=\u001b[39m \u001b[38;5;124m\"\u001b[39m\u001b[38;5;124m./\u001b[39m\u001b[38;5;124m\"\u001b[39m\n\u001b[0;32m----> 2\u001b[0m subfolders \u001b[38;5;241m=\u001b[39m \u001b[43mget_frame_subfolders\u001b[49m\u001b[43m(\u001b[49m\u001b[43mfolder_path\u001b[49m\u001b[43m)\u001b[49m\n\u001b[1;32m      3\u001b[0m \u001b[38;5;28mprint\u001b[39m(subfolders)\n",
      "Cell \u001b[0;32mIn[1], line 6\u001b[0m, in \u001b[0;36mget_frame_subfolders\u001b[0;34m(folder_path)\u001b[0m\n\u001b[1;32m      4\u001b[0m frames_path \u001b[38;5;241m=\u001b[39m os\u001b[38;5;241m.\u001b[39mpath\u001b[38;5;241m.\u001b[39mjoin(folder_path, \u001b[38;5;124m\"\u001b[39m\u001b[38;5;124mframes\u001b[39m\u001b[38;5;124m\"\u001b[39m)\n\u001b[1;32m      5\u001b[0m \u001b[38;5;28;01mif\u001b[39;00m \u001b[38;5;129;01mnot\u001b[39;00m os\u001b[38;5;241m.\u001b[39mpath\u001b[38;5;241m.\u001b[39mexists(frames_path):\n\u001b[0;32m----> 6\u001b[0m     \u001b[38;5;28;01mraise\u001b[39;00m \u001b[38;5;167;01mFileNotFoundError\u001b[39;00m(\u001b[38;5;124mf\u001b[39m\u001b[38;5;124m\"\u001b[39m\u001b[38;5;124mNo \u001b[39m\u001b[38;5;124m'\u001b[39m\u001b[38;5;124mframes\u001b[39m\u001b[38;5;124m'\u001b[39m\u001b[38;5;124m directory found at \u001b[39m\u001b[38;5;132;01m{\u001b[39;00mframes_path\u001b[38;5;132;01m}\u001b[39;00m\u001b[38;5;124m\"\u001b[39m)\n\u001b[1;32m      8\u001b[0m \u001b[38;5;66;03m# List all subdirectories in {folder_path}/frames/\u001b[39;00m\n\u001b[1;32m      9\u001b[0m subfolders \u001b[38;5;241m=\u001b[39m [\n\u001b[1;32m     10\u001b[0m     os\u001b[38;5;241m.\u001b[39mpath\u001b[38;5;241m.\u001b[39mjoin(frames_path, subfolder)\n\u001b[1;32m     11\u001b[0m     \u001b[38;5;28;01mfor\u001b[39;00m subfolder \u001b[38;5;129;01min\u001b[39;00m os\u001b[38;5;241m.\u001b[39mlistdir(frames_path)\n\u001b[1;32m     12\u001b[0m     \u001b[38;5;28;01mif\u001b[39;00m os\u001b[38;5;241m.\u001b[39mpath\u001b[38;5;241m.\u001b[39misdir(os\u001b[38;5;241m.\u001b[39mpath\u001b[38;5;241m.\u001b[39mjoin(frames_path, subfolder))\n\u001b[1;32m     13\u001b[0m ]\n",
      "\u001b[0;31mFileNotFoundError\u001b[0m: No 'frames' directory found at ./frames"
     ]
    }
   ],
   "source": [
    "folder_path = \"./\"\n",
    "subfolders = get_frame_subfolders(folder_path)\n",
    "print(subfolders)\n"
   ]
  },
  {
   "cell_type": "code",
   "execution_count": null,
   "id": "bf7c8555-6f9b-4337-ba9c-a80bfd890b25",
   "metadata": {},
   "outputs": [],
   "source": []
  }
 ],
 "metadata": {
  "kernelspec": {
   "display_name": "Python 3 (ipykernel)",
   "language": "python",
   "name": "python3"
  },
  "language_info": {
   "codemirror_mode": {
    "name": "ipython",
    "version": 3
   },
   "file_extension": ".py",
   "mimetype": "text/x-python",
   "name": "python",
   "nbconvert_exporter": "python",
   "pygments_lexer": "ipython3",
   "version": "3.12.2"
  }
 },
 "nbformat": 4,
 "nbformat_minor": 5
}
