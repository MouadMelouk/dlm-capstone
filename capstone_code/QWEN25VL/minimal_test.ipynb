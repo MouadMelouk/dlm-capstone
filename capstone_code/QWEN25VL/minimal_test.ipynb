{
 "cells": [
  {
   "cell_type": "code",
   "execution_count": 1,
   "id": "7b4a55df-4431-4a2c-8dd2-98284a965ace",
   "metadata": {},
   "outputs": [
    {
     "name": "stdout",
     "output_type": "stream",
     "text": [
      "HF_HOME: /scratch/mmm9912/hf_cache\n",
      "HF_DATASETS_CACHE: /scratch/mmm9912/hf_cache/datasets\n",
      "XDG_CACHE_HOME: /scratch/mmm9912/hf_cache\n"
     ]
    }
   ],
   "source": [
    "import os\n",
    "\n",
    "os.environ[\"HF_HOME\"] = \"/scratch/mmm9912/hf_cache\"\n",
    "os.environ[\"HF_DATASETS_CACHE\"] = \"/scratch/mmm9912/hf_cache/datasets\"\n",
    "os.environ[\"XDG_CACHE_HOME\"] = \"/scratch/mmm9912/hf_cache\"\n",
    "\n",
    "# Verify that the cache paths are set\n",
    "for var in [\"HF_HOME\", \"HF_DATASETS_CACHE\", \"XDG_CACHE_HOME\"]:\n",
    "    print(f\"{var}: {os.environ.get(var)}\")\n",
    "\n",
    "os.environ[\"PYTORCH_CUDA_ALLOC_CONF\"] = \"expandable_segments:True\""
   ]
  },
  {
   "cell_type": "code",
   "execution_count": 2,
   "id": "8d41d0f4-2da9-4a46-a928-f2f27a65fe79",
   "metadata": {},
   "outputs": [
    {
     "name": "stderr",
     "output_type": "stream",
     "text": [
      "/scratch/mmm9912/condaDONOTDELETE/qwen25vl/lib/python3.9/site-packages/tqdm/auto.py:21: TqdmWarning: IProgress not found. Please update jupyter and ipywidgets. See https://ipywidgets.readthedocs.io/en/stable/user_install.html\n",
      "  from .autonotebook import tqdm as notebook_tqdm\n"
     ]
    }
   ],
   "source": [
    "import torch\n",
    "from transformers import Qwen2_5_VLForConditionalGeneration, AutoProcessor\n",
    "from qwen_vl_utils import process_vision_info\n"
   ]
  },
  {
   "cell_type": "code",
   "execution_count": 3,
   "id": "bb2bf8a5-4412-4a97-ae50-e536cf293c69",
   "metadata": {},
   "outputs": [
    {
     "name": "stderr",
     "output_type": "stream",
     "text": [
      "The `load_in_4bit` and `load_in_8bit` arguments are deprecated and will be removed in the future versions. Please, pass a `BitsAndBytesConfig` object in `quantization_config` argument instead.\n",
      "Loading checkpoint shards: 100%|██████████| 5/5 [00:09<00:00,  1.86s/it]\n"
     ]
    }
   ],
   "source": [
    "model = Qwen2_5_VLForConditionalGeneration.from_pretrained(\n",
    "    \"Qwen/Qwen2.5-VL-7B-Instruct\",\n",
    "    load_in_8bit=True,          # Enable 8-bit quantization for inference\n",
    "    device_map=\"sequential\",    # Load layers sequentially\n",
    "    offload_folder=\"/scratch/mmm9912/qwen25vl_offload\"  # Offload weights to CPU as needed\n",
    ")\n",
    "\n",
    "# Also lower the expected visual resolution\n",
    "min_pixels = 128 * 28 * 28   # Drastically reduced from defaults\n",
    "max_pixels = 640 * 28 * 28\n",
    "\n",
    "processor = AutoProcessor.from_pretrained(\n",
    "    \"Qwen/Qwen2.5-VL-7B-Instruct\",\n",
    "    min_pixels=min_pixels,\n",
    "    max_pixels=max_pixels\n",
    ")\n"
   ]
  },
  {
   "cell_type": "code",
   "execution_count": 38,
   "id": "5486ba5d-6c3c-4751-a448-296952f0d2c9",
   "metadata": {},
   "outputs": [],
   "source": [
    "\n",
    "messages = [\n",
    "    {\n",
    "        \"role\": \"system\",\n",
    "        \"content\": [\n",
    "            {\n",
    "                \"type\": \"text\",\n",
    "                \"text\": (\n",
    "                    \"You are an expert in video forensics and deepfake detection.\"\n",
    "                    \"Your task is to analyze the provided image and determine whether it is from a deepfake video. \"\n",
    "                    \"Consider multiple factors such as inconsistencies. But do not consider compression-related\"\n",
    "                    \"artifacts, as those are only due to electronic media sharing.\"\n",
    "                    \"Provide a structured, concise and succinct analysis with specific reasoning before concluding whether the image is real or a deepfake.\"\n",
    "                )\n",
    "            }\n",
    "        ]\n",
    "    },\n",
    "    {\n",
    "        \"role\": \"user\",\n",
    "        \"content\": [\n",
    "            {\n",
    "                \"type\": \"image\",\n",
    "                \"image\": \"file://./FF-NT-000frame.png\",\n",
    "            },\n",
    "            {\n",
    "                \"type\": \"text\",\n",
    "                \"text\": \"Tell me whether this image is a deepfake and outline your reasoning. Your answer should be either REAL or DEEPFAKE; nothing else.\"\n",
    "            }\n",
    "        ]\n",
    "    }\n",
    "]"
   ]
  },
  {
   "cell_type": "code",
   "execution_count": 39,
   "id": "2b284755-e26a-4d17-9e70-df9c4ba1fefd",
   "metadata": {},
   "outputs": [],
   "source": [
    "# Convert user messages into a text prompt (including special tokens)\n",
    "text = processor.apply_chat_template(\n",
    "    messages, tokenize=False, add_generation_prompt=True\n",
    ")\n",
    "\n",
    "# Preprocess image and text for the model\n",
    "image_inputs, video_inputs = process_vision_info(messages)\n",
    "inputs = processor(\n",
    "    text=[text],\n",
    "    images=image_inputs,\n",
    "    videos=video_inputs,\n",
    "    return_tensors=\"pt\",\n",
    "    padding=True\n",
    ").to(model.device)\n"
   ]
  },
  {
   "cell_type": "code",
   "execution_count": 40,
   "id": "b3141f05-06db-4477-a5fa-f539d41ff6c9",
   "metadata": {},
   "outputs": [],
   "source": [
    "with torch.no_grad():\n",
    "    generated_ids = model.generate(\n",
    "        **inputs,\n",
    "        max_new_tokens=4\n",
    "    )\n"
   ]
  },
  {
   "cell_type": "code",
   "execution_count": 41,
   "id": "1ea3d3ca-27d8-4d9d-8ec0-0cc137b75967",
   "metadata": {},
   "outputs": [
    {
     "name": "stdout",
     "output_type": "stream",
     "text": [
      "Model output: REAL\n"
     ]
    }
   ],
   "source": [
    "generated_ids_trimmed = [\n",
    "    out_ids[len(in_ids):] for in_ids, out_ids in zip(inputs.input_ids, generated_ids)\n",
    "]\n",
    "\n",
    "# Decode the generated tokens into text\n",
    "output_text = processor.batch_decode(\n",
    "    generated_ids_trimmed, skip_special_tokens=True, clean_up_tokenization_spaces=False\n",
    ")\n",
    "\n",
    "print(\"Model output:\", output_text[0])\n"
   ]
  },
  {
   "cell_type": "code",
   "execution_count": null,
   "id": "ec6a2a00-a5d5-4386-87d6-c5e153046f8e",
   "metadata": {},
   "outputs": [],
   "source": []
  }
 ],
 "metadata": {
  "kernelspec": {
   "display_name": "Python (qwen25vl)",
   "language": "python",
   "name": "qwen25vl"
  },
  "language_info": {
   "codemirror_mode": {
    "name": "ipython",
    "version": 3
   },
   "file_extension": ".py",
   "mimetype": "text/x-python",
   "name": "python",
   "nbconvert_exporter": "python",
   "pygments_lexer": "ipython3",
   "version": "3.9.21"
  }
 },
 "nbformat": 4,
 "nbformat_minor": 5
}
